{
 "cells": [
  {
   "cell_type": "markdown",
   "id": "a866a3e0-3439-433b-a24b-8d02befbae3d",
   "metadata": {},
   "source": [
    "<h1> DataFrame analysis"
   ]
  },
  {
   "cell_type": "code",
   "execution_count": 2,
   "id": "833a5e2e-0e8c-497c-b8da-4e1ababdebce",
   "metadata": {},
   "outputs": [],
   "source": [
    "import pandas as pd\n",
    "import numpy as np\n",
    "import matplotlib.pyplot as plt\n",
    "import seaborn as sns"
   ]
  },
  {
   "cell_type": "code",
   "execution_count": 5,
   "id": "e8ba8aac-e40b-4e72-beec-11ea0fc58520",
   "metadata": {},
   "outputs": [],
   "source": [
    "data = pd.read_csv(\"data_copy/orchids.csv\")\n",
    "genus = pd.read_csv(\"data/genus.csv\")"
   ]
  },
  {
   "cell_type": "code",
   "execution_count": 6,
   "id": "6c2dcc94-08ea-41a5-b8ed-623d95e9f3a2",
   "metadata": {},
   "outputs": [
    {
     "data": {
      "text/html": [
       "<div>\n",
       "<style scoped>\n",
       "    .dataframe tbody tr th:only-of-type {\n",
       "        vertical-align: middle;\n",
       "    }\n",
       "\n",
       "    .dataframe tbody tr th {\n",
       "        vertical-align: top;\n",
       "    }\n",
       "\n",
       "    .dataframe thead th {\n",
       "        text-align: right;\n",
       "    }\n",
       "</style>\n",
       "<table border=\"1\" class=\"dataframe\">\n",
       "  <thead>\n",
       "    <tr style=\"text-align: right;\">\n",
       "      <th></th>\n",
       "      <th>UID</th>\n",
       "      <th>Specie</th>\n",
       "      <th>SubSpecie</th>\n",
       "      <th>Variant</th>\n",
       "      <th>Distribution</th>\n",
       "      <th>href</th>\n",
       "      <th>Genus</th>\n",
       "      <th>Genus_Info</th>\n",
       "      <th>Value</th>\n",
       "    </tr>\n",
       "  </thead>\n",
       "  <tbody>\n",
       "    <tr>\n",
       "      <th>0</th>\n",
       "      <td>39213</td>\n",
       "      <td>Apostasia elliptica</td>\n",
       "      <td>NaN</td>\n",
       "      <td>NaN</td>\n",
       "      <td>[['peninsular Malaysia', 'Sumatra', 'Borneo', ...</td>\n",
       "      <td>[]</td>\n",
       "      <td>Apostasia</td>\n",
       "      <td>0    Distribution: Tropical Asia, Malesia, Aus...</td>\n",
       "      <td>1065</td>\n",
       "    </tr>\n",
       "    <tr>\n",
       "      <th>1</th>\n",
       "      <td>39214</td>\n",
       "      <td>Apostasia fogangica</td>\n",
       "      <td>NaN</td>\n",
       "      <td>NaN</td>\n",
       "      <td>[['peninsular Malaysia', 'Sumatra', 'Borneo', ...</td>\n",
       "      <td>[]</td>\n",
       "      <td>Apostasia</td>\n",
       "      <td>0    Distribution: Tropical Asia, Malesia, Aus...</td>\n",
       "      <td>1065</td>\n",
       "    </tr>\n",
       "    <tr>\n",
       "      <th>2</th>\n",
       "      <td>39215</td>\n",
       "      <td>Apostasia latifolia</td>\n",
       "      <td>NaN</td>\n",
       "      <td>NaN</td>\n",
       "      <td>[['peninsular Malaysia', 'Sumatra', 'Borneo', ...</td>\n",
       "      <td>['https://www.worldplants.de/fileadmin/Modules...</td>\n",
       "      <td>Apostasia</td>\n",
       "      <td>0    Distribution: Tropical Asia, Malesia, Aus...</td>\n",
       "      <td>1065</td>\n",
       "    </tr>\n",
       "    <tr>\n",
       "      <th>3</th>\n",
       "      <td>39216</td>\n",
       "      <td>Apostasia nuda</td>\n",
       "      <td>NaN</td>\n",
       "      <td>NaN</td>\n",
       "      <td>[['peninsular Malaysia', 'Sumatra', 'Borneo', ...</td>\n",
       "      <td>[]</td>\n",
       "      <td>Apostasia</td>\n",
       "      <td>0    Distribution: Tropical Asia, Malesia, Aus...</td>\n",
       "      <td>1065</td>\n",
       "    </tr>\n",
       "    <tr>\n",
       "      <th>4</th>\n",
       "      <td>39217</td>\n",
       "      <td>Apostasia odorata</td>\n",
       "      <td>NaN</td>\n",
       "      <td>NaN</td>\n",
       "      <td>[['peninsular Malaysia', 'Sumatra', 'Borneo', ...</td>\n",
       "      <td>[]</td>\n",
       "      <td>Apostasia</td>\n",
       "      <td>0    Distribution: Tropical Asia, Malesia, Aus...</td>\n",
       "      <td>1065</td>\n",
       "    </tr>\n",
       "    <tr>\n",
       "      <th>...</th>\n",
       "      <td>...</td>\n",
       "      <td>...</td>\n",
       "      <td>...</td>\n",
       "      <td>...</td>\n",
       "      <td>...</td>\n",
       "      <td>...</td>\n",
       "      <td>...</td>\n",
       "      <td>...</td>\n",
       "      <td>...</td>\n",
       "    </tr>\n",
       "    <tr>\n",
       "      <th>34828</th>\n",
       "      <td>73295</td>\n",
       "      <td>Madisonia carrisii</td>\n",
       "      <td>NaN</td>\n",
       "      <td>NaN</td>\n",
       "      <td>[['Brazil', '84 BRA'], ['Brazil', '84 BRA'], [...</td>\n",
       "      <td>[]</td>\n",
       "      <td>Madisonia</td>\n",
       "      <td>748    Distribution: South America, mostly Bra...</td>\n",
       "      <td>1813</td>\n",
       "    </tr>\n",
       "    <tr>\n",
       "      <th>34829</th>\n",
       "      <td>73296</td>\n",
       "      <td>Madisonia gomesii-ferreirae</td>\n",
       "      <td>NaN</td>\n",
       "      <td>NaN</td>\n",
       "      <td>[['Brazil', '84 BRA'], ['Brazil', '84 BRA'], [...</td>\n",
       "      <td>[]</td>\n",
       "      <td>Madisonia</td>\n",
       "      <td>748    Distribution: South America, mostly Bra...</td>\n",
       "      <td>1813</td>\n",
       "    </tr>\n",
       "    <tr>\n",
       "      <th>34830</th>\n",
       "      <td>73297</td>\n",
       "      <td>Madisonia ianthina</td>\n",
       "      <td>NaN</td>\n",
       "      <td>NaN</td>\n",
       "      <td>[['Brazil', '84 BRA'], ['Brazil', '84 BRA'], [...</td>\n",
       "      <td>[]</td>\n",
       "      <td>Madisonia</td>\n",
       "      <td>748    Distribution: South America, mostly Bra...</td>\n",
       "      <td>1813</td>\n",
       "    </tr>\n",
       "    <tr>\n",
       "      <th>34831</th>\n",
       "      <td>73298</td>\n",
       "      <td>Madisonia kerrii</td>\n",
       "      <td>NaN</td>\n",
       "      <td>NaN</td>\n",
       "      <td>[['Brazil', '84 BRA'], ['Brazil', '84 BRA'], [...</td>\n",
       "      <td>[]</td>\n",
       "      <td>Madisonia</td>\n",
       "      <td>748    Distribution: South America, mostly Bra...</td>\n",
       "      <td>1813</td>\n",
       "    </tr>\n",
       "    <tr>\n",
       "      <th>34832</th>\n",
       "      <td>73299</td>\n",
       "      <td>Madisonia spiculifera</td>\n",
       "      <td>NaN</td>\n",
       "      <td>NaN</td>\n",
       "      <td>[['Brazil', '84 BRA'], ['Brazil', '84 BRA'], [...</td>\n",
       "      <td>[]</td>\n",
       "      <td>Madisonia</td>\n",
       "      <td>748    Distribution: South America, mostly Bra...</td>\n",
       "      <td>1813</td>\n",
       "    </tr>\n",
       "  </tbody>\n",
       "</table>\n",
       "<p>34833 rows × 9 columns</p>\n",
       "</div>"
      ],
      "text/plain": [
       "         UID                       Specie SubSpecie  Variant  \\\n",
       "0      39213          Apostasia elliptica       NaN      NaN   \n",
       "1      39214          Apostasia fogangica       NaN      NaN   \n",
       "2      39215          Apostasia latifolia       NaN      NaN   \n",
       "3      39216               Apostasia nuda       NaN      NaN   \n",
       "4      39217            Apostasia odorata       NaN      NaN   \n",
       "...      ...                          ...       ...      ...   \n",
       "34828  73295           Madisonia carrisii       NaN      NaN   \n",
       "34829  73296  Madisonia gomesii-ferreirae       NaN      NaN   \n",
       "34830  73297           Madisonia ianthina       NaN      NaN   \n",
       "34831  73298             Madisonia kerrii       NaN      NaN   \n",
       "34832  73299        Madisonia spiculifera       NaN      NaN   \n",
       "\n",
       "                                            Distribution  \\\n",
       "0      [['peninsular Malaysia', 'Sumatra', 'Borneo', ...   \n",
       "1      [['peninsular Malaysia', 'Sumatra', 'Borneo', ...   \n",
       "2      [['peninsular Malaysia', 'Sumatra', 'Borneo', ...   \n",
       "3      [['peninsular Malaysia', 'Sumatra', 'Borneo', ...   \n",
       "4      [['peninsular Malaysia', 'Sumatra', 'Borneo', ...   \n",
       "...                                                  ...   \n",
       "34828  [['Brazil', '84 BRA'], ['Brazil', '84 BRA'], [...   \n",
       "34829  [['Brazil', '84 BRA'], ['Brazil', '84 BRA'], [...   \n",
       "34830  [['Brazil', '84 BRA'], ['Brazil', '84 BRA'], [...   \n",
       "34831  [['Brazil', '84 BRA'], ['Brazil', '84 BRA'], [...   \n",
       "34832  [['Brazil', '84 BRA'], ['Brazil', '84 BRA'], [...   \n",
       "\n",
       "                                                    href      Genus  \\\n",
       "0                                                     []  Apostasia   \n",
       "1                                                     []  Apostasia   \n",
       "2      ['https://www.worldplants.de/fileadmin/Modules...  Apostasia   \n",
       "3                                                     []  Apostasia   \n",
       "4                                                     []  Apostasia   \n",
       "...                                                  ...        ...   \n",
       "34828                                                 []  Madisonia   \n",
       "34829                                                 []  Madisonia   \n",
       "34830                                                 []  Madisonia   \n",
       "34831                                                 []  Madisonia   \n",
       "34832                                                 []  Madisonia   \n",
       "\n",
       "                                              Genus_Info  Value  \n",
       "0      0    Distribution: Tropical Asia, Malesia, Aus...   1065  \n",
       "1      0    Distribution: Tropical Asia, Malesia, Aus...   1065  \n",
       "2      0    Distribution: Tropical Asia, Malesia, Aus...   1065  \n",
       "3      0    Distribution: Tropical Asia, Malesia, Aus...   1065  \n",
       "4      0    Distribution: Tropical Asia, Malesia, Aus...   1065  \n",
       "...                                                  ...    ...  \n",
       "34828  748    Distribution: South America, mostly Bra...   1813  \n",
       "34829  748    Distribution: South America, mostly Bra...   1813  \n",
       "34830  748    Distribution: South America, mostly Bra...   1813  \n",
       "34831  748    Distribution: South America, mostly Bra...   1813  \n",
       "34832  748    Distribution: South America, mostly Bra...   1813  \n",
       "\n",
       "[34833 rows x 9 columns]"
      ]
     },
     "execution_count": 6,
     "metadata": {},
     "output_type": "execute_result"
    }
   ],
   "source": [
    "data"
   ]
  },
  {
   "cell_type": "code",
   "execution_count": 3,
   "id": "4b7d4e88-0fbe-454a-adb1-2792ca51d641",
   "metadata": {},
   "outputs": [],
   "source": [
    "orchids = data.fillna(\"-\")"
   ]
  },
  {
   "cell_type": "code",
   "execution_count": 4,
   "id": "c2b62e12-4bee-40f4-a303-4fe9bc39cd15",
   "metadata": {},
   "outputs": [],
   "source": [
    "filtered_data = orchids[orchids[\"Variant\"]==\"-\"][orchids[\"SubSpecie\"]==\"-\"][[\"Specie\",\"Genus\",\"Distribution\"]]"
   ]
  },
  {
   "cell_type": "code",
   "execution_count": 5,
   "id": "4c7f048b-a4c1-420d-a70f-13f851b9f374",
   "metadata": {},
   "outputs": [
    {
     "data": {
      "text/plain": [
       "Int64Index([    0,     1,     2,     3,     4,     5,     8,     9,    10,\n",
       "               11,\n",
       "            ...\n",
       "            11791, 11792, 11793, 11794, 11795, 11796, 11797, 11798, 11799,\n",
       "            11800],\n",
       "           dtype='int64', length=11014)"
      ]
     },
     "execution_count": 5,
     "metadata": {},
     "output_type": "execute_result"
    }
   ],
   "source": [
    "filtered_data.index"
   ]
  },
  {
   "cell_type": "code",
   "execution_count": 6,
   "id": "2c16698f-723e-4d91-9201-41d86b3ae470",
   "metadata": {},
   "outputs": [
    {
     "data": {
      "text/html": [
       "<div>\n",
       "<style scoped>\n",
       "    .dataframe tbody tr th:only-of-type {\n",
       "        vertical-align: middle;\n",
       "    }\n",
       "\n",
       "    .dataframe tbody tr th {\n",
       "        vertical-align: top;\n",
       "    }\n",
       "\n",
       "    .dataframe thead th {\n",
       "        text-align: right;\n",
       "    }\n",
       "</style>\n",
       "<table border=\"1\" class=\"dataframe\">\n",
       "  <thead>\n",
       "    <tr style=\"text-align: right;\">\n",
       "      <th></th>\n",
       "      <th>Genus</th>\n",
       "      <th>Value</th>\n",
       "      <th>Distribution</th>\n",
       "    </tr>\n",
       "  </thead>\n",
       "  <tbody>\n",
       "    <tr>\n",
       "      <th>0</th>\n",
       "      <td>Apostasia</td>\n",
       "      <td>1065</td>\n",
       "      <td>Distribution: Tropical Asia, Malesia, Australia</td>\n",
       "    </tr>\n",
       "    <tr>\n",
       "      <th>1</th>\n",
       "      <td>Neuwiedia</td>\n",
       "      <td>1066</td>\n",
       "      <td>Distribution: S-China, Indochina, Malesia from...</td>\n",
       "    </tr>\n",
       "  </tbody>\n",
       "</table>\n",
       "</div>"
      ],
      "text/plain": [
       "       Genus  Value                                       Distribution\n",
       "0  Apostasia   1065    Distribution: Tropical Asia, Malesia, Australia\n",
       "1  Neuwiedia   1066  Distribution: S-China, Indochina, Malesia from..."
      ]
     },
     "execution_count": 6,
     "metadata": {},
     "output_type": "execute_result"
    }
   ],
   "source": [
    "genus.head(2)"
   ]
  },
  {
   "cell_type": "code",
   "execution_count": 7,
   "id": "85019efa-eae7-45c6-9485-6ee6b7f66e8d",
   "metadata": {},
   "outputs": [],
   "source": [
    "data.replace(np.nan, \"\", inplace=True)"
   ]
  },
  {
   "cell_type": "code",
   "execution_count": 8,
   "id": "4b930bb2-eede-4ec3-b877-2de566f2b75b",
   "metadata": {},
   "outputs": [
    {
     "data": {
      "text/plain": [
       "UID             28\n",
       "Specie          28\n",
       "SubSpecie       28\n",
       "Variant         28\n",
       "Distribution    28\n",
       "href            28\n",
       "Genus           28\n",
       "Genus_Info      28\n",
       "Value           28\n",
       "dtype: int64"
      ]
     },
     "execution_count": 8,
     "metadata": {},
     "output_type": "execute_result"
    }
   ],
   "source": [
    "data[data[\"Genus\"]== \"Epistephium\"].count()\n"
   ]
  },
  {
   "cell_type": "code",
   "execution_count": 9,
   "id": "3045c431-5705-4944-86c1-d5c9e980de8b",
   "metadata": {},
   "outputs": [],
   "source": [
    "data.to_csv(\"data/orchids.csv\", index=False, header=True)"
   ]
  },
  {
   "cell_type": "code",
   "execution_count": 10,
   "id": "141ff387-068f-40f6-bad8-e89f0cc051d9",
   "metadata": {},
   "outputs": [
    {
     "name": "stdout",
     "output_type": "stream",
     "text": [
      "    7693\n"
     ]
    }
   ],
   "source": [
    "!ls images| wc -l"
   ]
  },
  {
   "cell_type": "code",
   "execution_count": 11,
   "id": "d6a6c940-8a52-4b1b-8483-b56346b3fd74",
   "metadata": {},
   "outputs": [
    {
     "name": "stdout",
     "output_type": "stream",
     "text": [
      "2999\n"
     ]
    }
   ],
   "source": [
    "count_images = 0\n",
    "for ind in data.index-1:\n",
    "    tmp = data.iloc[ind][\"href\"][2:-2]\n",
    "    if len(tmp) != 0:\n",
    "        rs = tmp.replace(\"', '\", \" \").split()\n",
    "        for i in rs:\n",
    "            count_images += 1\n",
    "print(count_images)"
   ]
  },
  {
   "cell_type": "code",
   "execution_count": 34,
   "id": "47db9b1c-ee48-4a34-873d-0080bb1823c5",
   "metadata": {},
   "outputs": [],
   "source": [
    "count_images = 0\n",
    "count_images_genus = []\n",
    "for j in genus.index-1:\n",
    "    i = genus.iloc[j][\"Genus\"]\n",
    "    v = genus.iloc[j][\"Value\"]\n",
    "    tmp = data[data[\"Genus\"] == i][\"href\"]\n",
    "    for l in tmp:\n",
    "        l = l[2:-2]\n",
    "        if len(l) != 0:\n",
    "            rs = l.replace(\"', '\", \" \").split()\n",
    "            for k in rs:\n",
    "                count_images += 1\n",
    "    count_images_genus.append([i,v,count_images])\n",
    "    count_images = 0"
   ]
  },
  {
   "cell_type": "code",
   "execution_count": 35,
   "id": "3425d8fa-d1af-484e-8b75-05b7a2eeb01a",
   "metadata": {},
   "outputs": [],
   "source": [
    "images = pd.DataFrame(count_images_genus, columns=[\"Genus\",\"Value,\",\"Image_Count\"])\n",
    "images.sort_values(by=['Image_Count'], ascending=False, inplace = True)\n",
    "\n"
   ]
  },
  {
   "cell_type": "code",
   "execution_count": 36,
   "id": "e8090ee7-be91-4d00-8523-5b96e9941bc7",
   "metadata": {},
   "outputs": [],
   "source": [
    "img = images[[\"Genus\",\"Image_Count\"]].sort_values(by=\"Image_Count\", ascending=True)"
   ]
  },
  {
   "cell_type": "code",
   "execution_count": 37,
   "id": "5585420e-e587-42c0-80df-2ff6b1770dc5",
   "metadata": {},
   "outputs": [
    {
     "data": {
      "text/html": [
       "<div>\n",
       "<style scoped>\n",
       "    .dataframe tbody tr th:only-of-type {\n",
       "        vertical-align: middle;\n",
       "    }\n",
       "\n",
       "    .dataframe tbody tr th {\n",
       "        vertical-align: top;\n",
       "    }\n",
       "\n",
       "    .dataframe thead th {\n",
       "        text-align: right;\n",
       "    }\n",
       "</style>\n",
       "<table border=\"1\" class=\"dataframe\">\n",
       "  <thead>\n",
       "    <tr style=\"text-align: right;\">\n",
       "      <th></th>\n",
       "      <th>Image_Count</th>\n",
       "    </tr>\n",
       "    <tr>\n",
       "      <th>Genus</th>\n",
       "      <th></th>\n",
       "    </tr>\n",
       "  </thead>\n",
       "  <tbody>\n",
       "    <tr>\n",
       "      <th>Cirrhaea</th>\n",
       "      <td>0</td>\n",
       "    </tr>\n",
       "    <tr>\n",
       "      <th>Hammarbya</th>\n",
       "      <td>0</td>\n",
       "    </tr>\n",
       "    <tr>\n",
       "      <th>Crossoglossa</th>\n",
       "      <td>0</td>\n",
       "    </tr>\n",
       "    <tr>\n",
       "      <th>Alatiliparis</th>\n",
       "      <td>0</td>\n",
       "    </tr>\n",
       "    <tr>\n",
       "      <th>Orestias</th>\n",
       "      <td>0</td>\n",
       "    </tr>\n",
       "    <tr>\n",
       "      <th>...</th>\n",
       "      <td>...</td>\n",
       "    </tr>\n",
       "    <tr>\n",
       "      <th>Dactylorhiza</th>\n",
       "      <td>128</td>\n",
       "    </tr>\n",
       "    <tr>\n",
       "      <th>Disa</th>\n",
       "      <td>165</td>\n",
       "    </tr>\n",
       "    <tr>\n",
       "      <th>Epipactis</th>\n",
       "      <td>206</td>\n",
       "    </tr>\n",
       "    <tr>\n",
       "      <th>Ophrys</th>\n",
       "      <td>290</td>\n",
       "    </tr>\n",
       "    <tr>\n",
       "      <th>Dendrobium</th>\n",
       "      <td>470</td>\n",
       "    </tr>\n",
       "  </tbody>\n",
       "</table>\n",
       "<p>749 rows × 1 columns</p>\n",
       "</div>"
      ],
      "text/plain": [
       "              Image_Count\n",
       "Genus                    \n",
       "Cirrhaea                0\n",
       "Hammarbya               0\n",
       "Crossoglossa            0\n",
       "Alatiliparis            0\n",
       "Orestias                0\n",
       "...                   ...\n",
       "Dactylorhiza          128\n",
       "Disa                  165\n",
       "Epipactis             206\n",
       "Ophrys                290\n",
       "Dendrobium            470\n",
       "\n",
       "[749 rows x 1 columns]"
      ]
     },
     "execution_count": 37,
     "metadata": {},
     "output_type": "execute_result"
    }
   ],
   "source": [
    "img = img.set_index('Genus')\n",
    "img"
   ]
  },
  {
   "cell_type": "code",
   "execution_count": 48,
   "id": "610e7485-1bf0-46de-b016-8f780ee748ac",
   "metadata": {},
   "outputs": [
    {
     "data": {
      "image/png": "[encoded data removed]",
      "text/plain": [
       "<Figure size 640x480 with 1 Axes>"
      ]
     },
     "metadata": {},
     "output_type": "display_data"
    }
   ],
   "source": [
    "hist = sns.histplot(y = img.Image_Count, bins =100);\n",
    "hist.set(xlabel =\"Genus\", ylabel = \"Image Count\", title ='Count of images per Genus');"
   ]
  },
  {
   "cell_type": "code",
   "execution_count": 40,
   "id": "b790a084-a2d3-4f6e-b178-ad212307f4de",
   "metadata": {},
   "outputs": [
    {
     "data": {
      "image/png": "[encoded data removed]",
      "text/plain": [
       "<Figure size 640x480 with 1 Axes>"
      ]
     },
     "metadata": {},
     "output_type": "display_data"
    }
   ],
   "source": [
    "plt.hist(img[img.Image_Count != 0], bins = 100, cumulative=False);"
   ]
  },
  {
   "cell_type": "code",
   "execution_count": 17,
   "id": "ef32e56b-340c-4672-b448-836ead779705",
   "metadata": {},
   "outputs": [
    {
     "data": {
      "text/plain": [
       "Image_Count    605\n",
       "dtype: int64"
      ]
     },
     "execution_count": 17,
     "metadata": {},
     "output_type": "execute_result"
    }
   ],
   "source": [
    "img[img.Image_Count == 0].count()"
   ]
  },
  {
   "cell_type": "code",
   "execution_count": 18,
   "id": "ac4eaf85-c6d0-4146-8836-30ba71b6ad6a",
   "metadata": {},
   "outputs": [],
   "source": [
    "count_images_genus = []\n",
    "count_images = 0\n",
    "for i in genus.index-1:\n",
    "    j = genus.iloc[i][\"Genus\"]\n",
    "    tmp = data[data[\"Genus\"] == j][\"href\"]\n",
    "    for k in tmp:\n",
    "        tmp2 = k\n",
    "        tmp2 = tmp2[2:-2]\n",
    "        if len(tmp2) != 0:\n",
    "            rs = tmp2.replace(\"', '\", \" \").split()\n",
    "            for l in rs:\n",
    "                count_images += 1\n",
    "    count_images_genus.append([j,count_images])\n",
    "    count_images = 0"
   ]
  },
  {
   "cell_type": "code",
   "execution_count": 19,
   "id": "d10b999a-cca7-44f1-8d08-dc1cbd81328e",
   "metadata": {},
   "outputs": [],
   "source": [
    "count_images_genus = pd.DataFrame(count_images_genus, columns =[\"Genus\",\"Image_count\"])\n",
    "count_images_genus = count_images_genus.sort_values(by=\"Image_count\",ascending=True)"
   ]
  },
  {
   "cell_type": "code",
   "execution_count": 20,
   "id": "0b9c1310-4618-4eeb-a8d5-ebe23686b556",
   "metadata": {},
   "outputs": [
    {
     "data": {
      "image/png": "[encoded data removed]",
      "text/plain": [
       "<Figure size 640x480 with 1 Axes>"
      ]
     },
     "metadata": {},
     "output_type": "display_data"
    }
   ],
   "source": [
    "import matplotlib.pyplot as plt\n",
    "count_images_genus[\"CumSum\"] =count_images_genus[\"Image_count\"].cumsum()\n",
    "count_images_genus\n",
    "x = [i for i in range(len(count_images_genus))]\n",
    "plt.plot(x, count_images_genus[\"CumSum\"]);"
   ]
  },
  {
   "cell_type": "code",
   "execution_count": 61,
   "id": "ef413a37-88cf-470d-afc0-062e7e77361b",
   "metadata": {},
   "outputs": [],
   "source": [
    "data = data.drop(data.index[[0]])\n",
    "poblacio = data.groupby([\"Genus\"])[\"Specie\"].count()"
   ]
  },
  {
   "cell_type": "code",
   "execution_count": 22,
   "id": "528a0308-bb67-4b72-9c9d-d5ae2abefc7c",
   "metadata": {},
   "outputs": [
    {
     "data": {
      "image/png": "[encoded data removed]",
      "text/plain": [
       "<Figure size 640x480 with 1 Axes>"
      ]
     },
     "metadata": {},
     "output_type": "display_data"
    }
   ],
   "source": [
    "\n",
    "import seaborn as sns\n",
    "\n",
    "sns.histplot(poblacio);"
   ]
  },
  {
   "cell_type": "code",
   "execution_count": 67,
   "id": "cc51faec-3814-430f-a72a-33bc452293b4",
   "metadata": {},
   "outputs": [],
   "source": [
    "poblacio = pd.DataFrame(poblacio)\n",
    "poblacio = poblacio.sort_values(by=\"Specie\", ascending=False)"
   ]
  },
  {
   "cell_type": "code",
   "execution_count": 68,
   "id": "48438140-ef17-42ea-b485-526d88052118",
   "metadata": {},
   "outputs": [
    {
     "data": {
      "text/html": [
       "<div>\n",
       "<style scoped>\n",
       "    .dataframe tbody tr th:only-of-type {\n",
       "        vertical-align: middle;\n",
       "    }\n",
       "\n",
       "    .dataframe tbody tr th {\n",
       "        vertical-align: top;\n",
       "    }\n",
       "\n",
       "    .dataframe thead th {\n",
       "        text-align: right;\n",
       "    }\n",
       "</style>\n",
       "<table border=\"1\" class=\"dataframe\">\n",
       "  <thead>\n",
       "    <tr style=\"text-align: right;\">\n",
       "      <th></th>\n",
       "      <th>Specie</th>\n",
       "    </tr>\n",
       "    <tr>\n",
       "      <th>Genus</th>\n",
       "      <th></th>\n",
       "    </tr>\n",
       "  </thead>\n",
       "  <tbody>\n",
       "    <tr>\n",
       "      <th>Dendrobium</th>\n",
       "      <td>1685</td>\n",
       "    </tr>\n",
       "    <tr>\n",
       "      <th>Habenaria</th>\n",
       "      <td>898</td>\n",
       "    </tr>\n",
       "    <tr>\n",
       "      <th>Coelogyne</th>\n",
       "      <td>617</td>\n",
       "    </tr>\n",
       "    <tr>\n",
       "      <th>Ophrys</th>\n",
       "      <td>552</td>\n",
       "    </tr>\n",
       "    <tr>\n",
       "      <th>Bulbophyllum</th>\n",
       "      <td>509</td>\n",
       "    </tr>\n",
       "    <tr>\n",
       "      <th>...</th>\n",
       "      <td>...</td>\n",
       "    </tr>\n",
       "    <tr>\n",
       "      <th>Hsenhsua</th>\n",
       "      <td>1</td>\n",
       "    </tr>\n",
       "    <tr>\n",
       "      <th>Kionophyton</th>\n",
       "      <td>1</td>\n",
       "    </tr>\n",
       "    <tr>\n",
       "      <th>Lepidogyne</th>\n",
       "      <td>1</td>\n",
       "    </tr>\n",
       "    <tr>\n",
       "      <th>Leptoceras</th>\n",
       "      <td>1</td>\n",
       "    </tr>\n",
       "    <tr>\n",
       "      <th>Leporella</th>\n",
       "      <td>1</td>\n",
       "    </tr>\n",
       "  </tbody>\n",
       "</table>\n",
       "<p>272 rows × 1 columns</p>\n",
       "</div>"
      ],
      "text/plain": [
       "              Specie\n",
       "Genus               \n",
       "Dendrobium      1685\n",
       "Habenaria        898\n",
       "Coelogyne        617\n",
       "Ophrys           552\n",
       "Bulbophyllum     509\n",
       "...              ...\n",
       "Hsenhsua           1\n",
       "Kionophyton        1\n",
       "Lepidogyne         1\n",
       "Leptoceras         1\n",
       "Leporella          1\n",
       "\n",
       "[272 rows x 1 columns]"
      ]
     },
     "execution_count": 68,
     "metadata": {},
     "output_type": "execute_result"
    }
   ],
   "source": [
    "poblacio"
   ]
  },
  {
   "cell_type": "code",
   "execution_count": 75,
   "id": "e1d9c6e5-a753-473c-a37f-ce73054a06c6",
   "metadata": {},
   "outputs": [
    {
     "data": {
      "text/html": [
       "<div>\n",
       "<style scoped>\n",
       "    .dataframe tbody tr th:only-of-type {\n",
       "        vertical-align: middle;\n",
       "    }\n",
       "\n",
       "    .dataframe tbody tr th {\n",
       "        vertical-align: top;\n",
       "    }\n",
       "\n",
       "    .dataframe thead th {\n",
       "        text-align: right;\n",
       "    }\n",
       "</style>\n",
       "<table border=\"1\" class=\"dataframe\">\n",
       "  <thead>\n",
       "    <tr style=\"text-align: right;\">\n",
       "      <th></th>\n",
       "      <th>Specie</th>\n",
       "    </tr>\n",
       "    <tr>\n",
       "      <th>Genus</th>\n",
       "      <th></th>\n",
       "    </tr>\n",
       "  </thead>\n",
       "  <tbody>\n",
       "    <tr>\n",
       "      <th>Dendrobium</th>\n",
       "      <td>1685</td>\n",
       "    </tr>\n",
       "    <tr>\n",
       "      <th>Habenaria</th>\n",
       "      <td>2583</td>\n",
       "    </tr>\n",
       "    <tr>\n",
       "      <th>Coelogyne</th>\n",
       "      <td>3200</td>\n",
       "    </tr>\n",
       "    <tr>\n",
       "      <th>Ophrys</th>\n",
       "      <td>3752</td>\n",
       "    </tr>\n",
       "    <tr>\n",
       "      <th>Bulbophyllum</th>\n",
       "      <td>4261</td>\n",
       "    </tr>\n",
       "    <tr>\n",
       "      <th>...</th>\n",
       "      <td>...</td>\n",
       "    </tr>\n",
       "    <tr>\n",
       "      <th>Hsenhsua</th>\n",
       "      <td>11793</td>\n",
       "    </tr>\n",
       "    <tr>\n",
       "      <th>Kionophyton</th>\n",
       "      <td>11794</td>\n",
       "    </tr>\n",
       "    <tr>\n",
       "      <th>Lepidogyne</th>\n",
       "      <td>11795</td>\n",
       "    </tr>\n",
       "    <tr>\n",
       "      <th>Leptoceras</th>\n",
       "      <td>11796</td>\n",
       "    </tr>\n",
       "    <tr>\n",
       "      <th>Leporella</th>\n",
       "      <td>11797</td>\n",
       "    </tr>\n",
       "  </tbody>\n",
       "</table>\n",
       "<p>272 rows × 1 columns</p>\n",
       "</div>"
      ],
      "text/plain": [
       "              Specie\n",
       "Genus               \n",
       "Dendrobium      1685\n",
       "Habenaria       2583\n",
       "Coelogyne       3200\n",
       "Ophrys          3752\n",
       "Bulbophyllum    4261\n",
       "...              ...\n",
       "Hsenhsua       11793\n",
       "Kionophyton    11794\n",
       "Lepidogyne     11795\n",
       "Leptoceras     11796\n",
       "Leporella      11797\n",
       "\n",
       "[272 rows x 1 columns]"
      ]
     },
     "execution_count": 75,
     "metadata": {},
     "output_type": "execute_result"
    }
   ],
   "source": [
    "poblacio.cumsum()"
   ]
  },
  {
   "cell_type": "code",
   "execution_count": 74,
   "id": "952fbdad-061c-40b6-82d9-0fdfad8f70e9",
   "metadata": {},
   "outputs": [
    {
     "data": {
      "image/png": "[encoded data removed]",
      "text/plain": [
       "<Figure size 640x480 with 1 Axes>"
      ]
     },
     "metadata": {},
     "output_type": "display_data"
    }
   ],
   "source": [
    "hist_pob = sns.histplot(x = poblacio.Specie, bins =100);\n",
    "hist_pob.set(xlabel =\"Species Per Genus\", ylabel = \"Number of Genuses\", title ='Count of Species per Genus');"
   ]
  },
  {
   "cell_type": "code",
   "execution_count": null,
   "id": "e10769ae-c3a1-4cc8-9f55-275a7d420af9",
   "metadata": {},
   "outputs": [],
   "source": [
    "#plt.style.use('_mpl-gallery')"
   ]
  },
  {
   "cell_type": "code",
   "execution_count": null,
   "id": "37c5767f-e281-47ad-a217-2540f5d3fe7d",
   "metadata": {},
   "outputs": [],
   "source": [
    "plt.stem(pob.Genus, pob.Specie);"
   ]
  },
  {
   "cell_type": "code",
   "execution_count": null,
   "id": "96b5d6dd-47cf-4b32-99c0-93f0e3e56a21",
   "metadata": {},
   "outputs": [],
   "source": [
    "poblacio.reset_index(inplace=True)\n"
   ]
  },
  {
   "cell_type": "code",
   "execution_count": null,
   "id": "04c8d22b-c297-447c-b47e-c1e43dc454a4",
   "metadata": {},
   "outputs": [],
   "source": [
    "df = pd.merge(genus,poblacio, how = \"inner\", on=[\"Value\",\"Genus\"])\n",
    "df"
   ]
  },
  {
   "cell_type": "code",
   "execution_count": null,
   "id": "4ed0acc0-24be-4b3d-8ad0-c7452bbbceeb",
   "metadata": {},
   "outputs": [],
   "source": [
    "df.sort_values(\"Specie\",ascending=False, inplace=True)\n",
    "df"
   ]
  },
  {
   "cell_type": "code",
   "execution_count": null,
   "id": "6e23ac18-8f92-48f5-92e7-c537165ccef0",
   "metadata": {},
   "outputs": [],
   "source": []
  }
 ],
 "metadata": {
  "kernelspec": {
   "display_name": "Python 3 (ipykernel)",
   "language": "python",
   "name": "python3"
  },
  "language_info": {
   "codemirror_mode": {
    "name": "ipython",
    "version": 3
   },
   "file_extension": ".py",
   "mimetype": "text/x-python",
   "name": "python",
   "nbconvert_exporter": "python",
   "pygments_lexer": "ipython3",
   "version": "3.10.6"
  }
 },
 "nbformat": 4,
 "nbformat_minor": 5
}
