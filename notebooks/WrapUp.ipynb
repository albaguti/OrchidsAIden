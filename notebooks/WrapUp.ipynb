{
 "cells": [
  {
   "cell_type": "code",
   "execution_count": 1,
   "id": "c8a70afa-cc17-4fbc-a3e5-324cbb4eb149",
   "metadata": {
    "tags": []
   },
   "outputs": [],
   "source": [
    "import requests\n",
    "from bs4 import BeautifulSoup\n",
    "import pandas as pd\n",
    "import numpy as np\n",
    "from bs4 import BeautifulSoup\n",
    "from selenium import webdriver\n",
    "from selenium.webdriver.support.ui import WebDriverWait\n",
    "from selenium.webdriver.common.by import By\n",
    "import imageio.v3 as iio\n",
    "%load_ext autoreload\n",
    "%autoreload 2\n",
    "from time import sleep"
   ]
  },
  {
   "cell_type": "markdown",
   "id": "48df6824-43e4-4ce8-85dd-14da640b2735",
   "metadata": {},
   "source": [
    "<h1> WrapUp"
   ]
  },
  {
   "cell_type": "markdown",
   "id": "305cdbcc-ab9b-4ce2-bed2-1c7b19bfd070",
   "metadata": {},
   "source": [
    "<h2> First we create the csv file with the correct columns"
   ]
  },
  {
   "cell_type": "code",
   "execution_count": 2,
   "id": "f243716d-c636-423e-b4a1-d7b264f618a5",
   "metadata": {},
   "outputs": [],
   "source": [
    "data = [[0,0,0,0,0,0,0,0]]\n",
    "data = pd.DataFrame(data, columns =[\"UID\",\"Specie\",\"SubSpecie\",\"Distribution\",\"href\",\"Genus\",\"Genus_Info\",\"Value\"])"
   ]
  },
  {
   "cell_type": "code",
   "execution_count": 3,
   "id": "1c9d8f52-29c5-4726-b394-367fe85756bd",
   "metadata": {},
   "outputs": [],
   "source": [
    "#data.to_csv(\"data/orchids.csv\",index=False, header=True)"
   ]
  },
  {
   "cell_type": "markdown",
   "id": "6c08efaa-c171-4aa6-b550-81790d06d007",
   "metadata": {},
   "source": [
    "<h2> We check for the connection to the web page"
   ]
  },
  {
   "cell_type": "code",
   "execution_count": 4,
   "id": "a1629050-bda8-49d8-9195-c6142bb67778",
   "metadata": {},
   "outputs": [
    {
     "name": "stdout",
     "output_type": "stream",
     "text": [
      "https://www.worldplants.de/world-orchids/orchid-list\n",
      "200\n"
     ]
    }
   ],
   "source": [
    "base_url = \"https://www.worldplants.de/world-orchids/orchid-list\"\n",
    "r = requests.get(base_url)\n",
    "# print request object\n",
    "print(r.url)\n",
    "\n",
    "# print status code\n",
    "print(r.status_code)"
   ]
  },
  {
   "cell_type": "markdown",
   "id": "7c7d722b-b1d2-4f20-92db-2e4c61ebb682",
   "metadata": {},
   "source": [
    "<h2>We create the list Genre and Value"
   ]
  },
  {
   "cell_type": "code",
   "execution_count": 5,
   "id": "0322a4a1-75d0-4c67-9ba2-fcc39023335f",
   "metadata": {},
   "outputs": [],
   "source": [
    "# Parsing the HTML\n",
    "soup = BeautifulSoup(r.content, 'html.parser')\n",
    " \n",
    "s = soup.find('select', id='genus')\n",
    "results = s.find_all('option')\n",
    "genus = []\n",
    "values = []\n",
    "for result in results:\n",
    "    genus.append(result.text)\n",
    "    values.append(result.get('value'))\n",
    "\n",
    "genus.remove(\"...\")\n",
    "values.remove(\"0\")"
   ]
  },
  {
   "cell_type": "code",
   "execution_count": 6,
   "id": "8a13a2c9-6dad-42ba-8cba-9d6ebf117b1c",
   "metadata": {},
   "outputs": [],
   "source": [
    "gen = pd.Series(genus)\n",
    "val = pd.Series(values)"
   ]
  },
  {
   "cell_type": "code",
   "execution_count": 7,
   "id": "9e2aaf3c-56fd-4322-a18b-385cba3e9495",
   "metadata": {},
   "outputs": [],
   "source": [
    "genus = pd.DataFrame(gen, columns=[\"Genus\"])\n",
    "genus[\"Value\"] = val\n",
    "genus.head()\n",
    "genus.to_csv(\"data/genus2.csv\", index=False, header=True)"
   ]
  },
  {
   "cell_type": "code",
   "execution_count": 8,
   "id": "a91d4d30-9839-4e84-84b1-2b60f2222d13",
   "metadata": {},
   "outputs": [
    {
     "ename": "SyntaxError",
     "evalue": "invalid syntax (3813348019.py, line 1)",
     "output_type": "error",
     "traceback": [
      "\u001b[0;36m  Cell \u001b[0;32mIn [8], line 1\u001b[0;36m\u001b[0m\n\u001b[0;31m    dada =\u001b[0m\n\u001b[0m          ^\u001b[0m\n\u001b[0;31mSyntaxError\u001b[0m\u001b[0;31m:\u001b[0m invalid syntax\n"
     ]
    }
   ],
   "source": [
    "dada ="
   ]
  },
  {
   "cell_type": "markdown",
   "id": "b0ceb8f6-71eb-4b35-9d08-37687b2f4334",
   "metadata": {},
   "source": [
    "<h2> Functions to extract the data"
   ]
  },
  {
   "cell_type": "code",
   "execution_count": null,
   "id": "84c10fbb-baf3-4c89-88ed-1e17824de8b4",
   "metadata": {},
   "outputs": [],
   "source": [
    "def connection_to_webpage(base_url,value):\n",
    "# we generate the url\n",
    "    url = base_url + \"#g-\"+value\n",
    "    browser = webdriver.Chrome()\n",
    "\n",
    "    browser.get(url)\n",
    "    wait = WebDriverWait(browser,20)\n",
    "    html = browser.page_source\n",
    "\n",
    "    return browser\n"
   ]
  },
  {
   "cell_type": "code",
   "execution_count": null,
   "id": "60b7a36f-9ca3-49ca-8e2f-881c30aac42e",
   "metadata": {},
   "outputs": [],
   "source": [
    "def get_genus(browser):\n",
    "    # We get distribution information on the Genus\n",
    "    genus_info = browser.find_elements(By.CSS_SELECTOR, '.genusInfo')\n",
    "    dis = []\n",
    "    distribution =\"\"\n",
    "    for e in genus_info:\n",
    "        text = e.text\n",
    "        dis = text.split(\"\\n\")\n",
    "    for i in dis:\n",
    "        if \"Distribution:\" in i:\n",
    "            distribution = i\n",
    "    return distribution"
   ]
  },
  {
   "cell_type": "code",
   "execution_count": null,
   "id": "8f2eaf51-7529-4fe2-92ac-2e0f6979e36c",
   "metadata": {},
   "outputs": [],
   "source": [
    "def get_species(browser):\n",
    "    sleep(2)\n",
    "    orquid_selection = browser.find_elements(By.CSS_SELECTOR, \".type-species\")\n",
    "    name = []\n",
    "    dist = []\n",
    "    href = []\n",
    "    h = []\n",
    "    data = []\n",
    "    distribution =[]\n",
    "    for i in orquid_selection:\n",
    "        u_id =int(i.get_attribute(\"id\").split(\"-\")[1])\n",
    "        n = i.find_element(By.CSS_SELECTOR, \".latName\").text\n",
    "        typ = \"specie\"\n",
    "        name.append([u_id,n,typ])\n",
    "        tmp = i.find_elements(By.CSS_SELECTOR, \".distCountry\")\n",
    "        for j in tmp:\n",
    "            dist.append(j.text)\n",
    "        distribution.append(dist)\n",
    "        dist = []\n",
    "        image = i.find_elements(By.CSS_SELECTOR, \"div.imageBox a\")\n",
    "        for j in image:\n",
    "            tmp =j.get_attribute(\"href\")\n",
    "            if tmp not in h:\n",
    "                h.append(tmp)    \n",
    "        href.append([u_id,h])\n",
    "        h = []\n",
    "        data.append([u_id,n,distribution,h])\n",
    "    return data"
   ]
  },
  {
   "cell_type": "code",
   "execution_count": null,
   "id": "29ded336-46aa-4f48-b50c-7ce13dcc8f86",
   "metadata": {},
   "outputs": [],
   "source": [
    "def get_sub_species(browser):\n",
    "    sleep(2)\n",
    "    orchid_sub = browser.find_elements(By.CSS_SELECTOR, \".type-subspecies\")\n",
    "    name_sub = []\n",
    "    dist_sub = []\n",
    "    href_sub = []\n",
    "    h = []\n",
    "    data_sub = []\n",
    "    distribution = []\n",
    "    for i in orchid_sub:\n",
    "        u_id =int(i.get_attribute(\"id\").split(\"-\")[1])\n",
    "        n = i.find_element(By.CSS_SELECTOR, \".latName\").text\n",
    "        name_sub.append(u_id)\n",
    "        tmp = i.find_elements(By.CSS_SELECTOR, \".distCountry\")\n",
    "        for j in tmp:\n",
    "            dist_sub.append([j.text])\n",
    "        distribution.append(dist_sub)\n",
    "        dist_sub = []\n",
    "        image = i.find_elements(By.CSS_SELECTOR, \"div.imageBox a\")\n",
    "        for j in image:\n",
    "            tmp =j.get_attribute(\"href\")\n",
    "            if tmp not in h:\n",
    "                h.append(tmp)\n",
    "        href_sub.append(h)\n",
    "        data_sub.append([u_id,n,distribution,h])\n",
    "        h = []\n",
    "    return data_sub, name_sub"
   ]
  },
  {
   "cell_type": "code",
   "execution_count": null,
   "id": "39aa74b5-db0d-4b6b-8136-becd25ae5a58",
   "metadata": {},
   "outputs": [],
   "source": [
    "def get_species_sub_species(name_sub,data,data_sub):\n",
    "    j = 0\n",
    "    k = 0\n",
    "    spe = \"\"\n",
    "    for i in name_sub:\n",
    "        while k == 0:\n",
    "            if (i-j) in data[\"UID\"].values:\n",
    "                spe = data[data[\"UID\"] == (i-j)][\"Specie\"].unique()\n",
    "                data_sub.loc[data_sub[\"UID\"]==i,\"Specie\"] = spe\n",
    "                k = 1\n",
    "            j += 1\n",
    "        print(\"out of while\", i)\n",
    "        j = 0\n",
    "        k = 0    \n",
    "    return data_sub"
   ]
  },
  {
   "cell_type": "code",
   "execution_count": null,
   "id": "54fa749f-a45b-4d01-b023-359e3b0abf78",
   "metadata": {},
   "outputs": [],
   "source": [
    "def create_images(data):\n",
    "    for i in data.index:\n",
    "        m = data[\"href\"][i]\n",
    "        name = data[\"Specie\"][i]\n",
    "        sub = data[\"SubSpecie\"][i]\n",
    "        if len(m) != 0:\n",
    "            for j,k in enumerate(m):             \n",
    "                tmp = iio.imread(k)\n",
    "                iio.imwrite(f\"images/{name}-{sub}-{j}.jpg\",tmp)\n",
    "                sleep(1)\n",
    "    return \"Images created successfully\""
   ]
  },
  {
   "cell_type": "code",
   "execution_count": null,
   "id": "71aa2041-e63b-49a2-b05f-44efe2304de4",
   "metadata": {},
   "outputs": [],
   "source": [
    "def save_data(data):\n",
    "    data = data[[\"UID\",\"Specie\",\"SubSpecie\",\"Distribution\",\"href\",\"Genus\",\"Genus_Info\",\"Value\"]]\n",
    "    data.to_csv('data/orchids.csv',mode='a', index=False, header=False)\n",
    "    return \"Data appended successfully.\""
   ]
  },
  {
   "cell_type": "code",
   "execution_count": null,
   "id": "6ca4e950-3d70-4714-a23a-8d21b3ee9815",
   "metadata": {},
   "outputs": [],
   "source": [
    "def add_columns(g, g_d,v,data):\n",
    "    data[\"Genus\"] = g\n",
    "    data[\"Genus_Info\"] = g_d\n",
    "    data[\"Value\"] = v\n",
    "    sleep(1)\n",
    "    return data"
   ]
  },
  {
   "cell_type": "code",
   "execution_count": null,
   "id": "84a2ef91-d19b-4415-8beb-069c013bbfdc",
   "metadata": {},
   "outputs": [],
   "source": [
    "def make_df(data,columns,extra):\n",
    "    df = pd.DataFrame(data, columns =columns)\n",
    "    df[extra] = \"\"\n",
    "    sleep(1)\n",
    "    return df"
   ]
  },
  {
   "cell_type": "markdown",
   "id": "0d67e195-a917-48a5-997c-68a6e9b37835",
   "metadata": {},
   "source": [
    "<h2> The main program"
   ]
  },
  {
   "cell_type": "code",
   "execution_count": null,
   "id": "3f7afce8-99d2-4dc4-a5a5-3e75d28c369f",
   "metadata": {
    "tags": []
   },
   "outputs": [],
   "source": [
    "for i in range(725,len(genus)):\n",
    "    v = genus[\"Value\"][i]\n",
    "    g = genus[\"Genus\"][i]\n",
    "    url = base_url + \"#g-\"+v\n",
    "    browser = webdriver.Chrome()\n",
    "    browser.get(url)\n",
    "    html = browser.page_source\n",
    "    genus_distribution = get_genus(browser)\n",
    "    print(genus_distribution)\n",
    "    data = get_species(browser)\n",
    "    data = make_df(data,[\"UID\",\"Specie\",\"Distribution\",\"href\"],\"SubSpecie\")\n",
    "    data_sub, name_sub= get_sub_species(browser)\n",
    "    wait = WebDriverWait(browser,20)\n",
    "    data_sub = make_df(data_sub, [\"UID\",\"SubSpecie\",\"Distribution\",\"href\"], \"Specie\")\n",
    "    data_sub = get_species_sub_species(name_sub,data,data_sub)\n",
    "    df = pd.concat([data,data_sub],ignore_index = True)\n",
    "    df = add_columns(g, genus_distribution,v,df)\n",
    "    save_data(df)\n",
    "    create_images(df)\n",
    "    sleep(15)\n",
    "    browser.close()\n",
    "    print(f\"row {i}\")"
   ]
  }
 ],
 "metadata": {
  "kernelspec": {
   "display_name": "Python 3 (ipykernel)",
   "language": "python",
   "name": "python3"
  },
  "language_info": {
   "codemirror_mode": {
    "name": "ipython",
    "version": 3
   },
   "file_extension": ".py",
   "mimetype": "text/x-python",
   "name": "python",
   "nbconvert_exporter": "python",
   "pygments_lexer": "ipython3",
   "version": "3.10.6"
  },
  "vscode": {
   "interpreter": {
    "hash": "f294531c38506c98db62e31e077cfa2576dd05a4550ffba751a6d86db255d0f7"
   }
  }
 },
 "nbformat": 4,
 "nbformat_minor": 5
}
